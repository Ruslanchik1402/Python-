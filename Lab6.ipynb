{
 "cells": [
  {
   "cell_type": "markdown",
   "metadata": {},
   "source": [
    "Получение расписания группы."
   ]
  },
  {
   "cell_type": "code",
   "execution_count": 198,
   "metadata": {},
   "outputs": [
    {
     "name": "stdout",
     "output_type": "stream",
     "text": [
      "Понедельник\n",
      "          time                                             lesson\n",
      "0  08:30-10:00                                                   \n",
      "1  10:00-11:30  Абстрактные приближенные схемы\\n905, Учебное з...\n",
      "2  10:10-11:40  Абстрактные приближенные схемы\\n905, Учебное з...\n",
      "3  11:50-13:20  Дополнительные главы оптимизации\\n1008, Учебно...\n",
      "4  14:00-15:30  Общая алгебра и теория чисел\\n1008, Учебное зд...\n",
      "5  15:40-17:10  Элективные курсы по физической культуре и спор...\n",
      "6  17:50-19:20                                                   \n"
     ]
    }
   ],
   "source": [
    "from selenium.webdriver import Chrome\n",
    "import datetime\n",
    "\n",
    "day_num=datetime.datetime.today().isoweekday()\n",
    "webdriver = \"D:\\downloads\\chromedriver\"\n",
    "driver = Chrome(webdriver)\n",
    "\n",
    "url='https://kpfu.ru/studentu/ucheba/raspisanie'\n",
    "\n",
    "driver.get(url)\n",
    "query_text='09-711'\n",
    "driver.find_element_by_name('p_group_name').clear()\n",
    "driver.find_element_by_name('p_group_name').send_keys(query_text)\n",
    "driver.find_element_by_name('p_group_name').send_keys(u'\\ue007')\n",
    "i=0\n",
    "sched=[]\n",
    "a=driver.find_elements_by_tag_name('tr')\n",
    "\n",
    "row_count=len(driver.find_elements_by_tag_name('tr'))-1\n",
    "column_count=len(driver.find_elements_by_xpath(\"//tr[2]/td\"))\n",
    "\n",
    "rows=driver.find_elements_by_tag_name('tr')\n",
    "columns=driver.find_elements_by_tag_name(\"td\")\n",
    "\n",
    "i=0\n",
    "sched_list=[]\n",
    "for a in columns:\n",
    "    if i>6 and i<60:\n",
    "        sched_list.append(a.text)\n",
    "    i+=1\n",
    "\n",
    "driver.close\n",
    "days=sched_list[:6]\n",
    "l1=sched_list[6:13]\n",
    "l2=sched_list[13:20]\n",
    "l3=sched_list[20:26]\n",
    "l4=sched_list[26:32]\n",
    "l5=sched_list[32:38]\n",
    "l6=sched_list[38:44]\n",
    "l7=sched_list[44:50]\n",
    "\n",
    "####исправление ошибок по времени в расписании\n",
    "a=l2[1]\n",
    "l3[1]=a\n",
    "\n",
    "l3.append(l4[0])\n",
    "\n",
    "l4.pop(0)\n",
    "\n",
    "l4.append(l5[0])\n",
    "l4.append(l5[1])\n",
    "\n",
    "l5.pop(0)\n",
    "l5.pop(0)\n",
    "\n",
    "l5.append(l6[0])\n",
    "l5.append(l6[1])\n",
    "l5.append(l6[2])\n",
    "\n",
    "l6.pop(0)\n",
    "l6.pop(0)\n",
    "l6.pop(0)\n",
    "\n",
    "l6.append(l7[0])\n",
    "l6.append(l7[1])\n",
    "l6.append(l7[2])\n",
    "l6.append(l7[3])\n",
    "\n",
    "l7.pop(0)\n",
    "l7.pop(0)\n",
    "l7.pop(0)\n",
    "l7.pop(0)\n",
    "\n",
    "\n",
    "l7.append(sched_list[50])\n",
    "l7.append(sched_list[51])\n",
    "l7.append(sched_list[52])\n",
    "l7.append('')\n",
    "l7.append('')\n",
    "#####\n",
    "full_sched=np.array([l1,l2,l3,l4,l5,l6,l7])\n",
    "\n",
    "print(days[day_num-1])\n",
    "\n",
    "time=full_sched[:,0]\n",
    "day_sched=full_sched[:,day_num]\n",
    "\n",
    "import pandas as pd\n",
    "\n",
    "d={'time': time, 'lesson':day_sched}\n",
    "\n",
    "df=(pd.DataFrame(d,columns=['time','lesson']))\n",
    "print(df)"
   ]
  },
  {
   "cell_type": "markdown",
   "metadata": {},
   "source": [
    "Отправка расписания на почту."
   ]
  },
  {
   "cell_type": "code",
   "execution_count": 217,
   "metadata": {},
   "outputs": [
    {
     "data": {
      "text/plain": [
       "{}"
      ]
     },
     "execution_count": 217,
     "metadata": {},
     "output_type": "execute_result"
    }
   ],
   "source": [
    "import smtplib\n",
    "\n",
    "smtpObj = smtplib.SMTP('smtp.gmail.com', 587)\n",
    "\n",
    "smtpObj.starttls()\n",
    "\n",
    "smtpObj.login('****@gmail.com','****')\n",
    "\n",
    "msg = MIMEMultipart()\n",
    "message = df\n",
    " #print(message)\n",
    "html = \"\"\"\\<html>\n",
    "          <head></head>\n",
    "          <body>\n",
    "            {0}\n",
    "          </body>\n",
    "        </html>\n",
    "        \"\"\".format(message.to_html(index=False))\n",
    "\n",
    "part1 = MIMEText(html, 'html')\n",
    "msg.attach(part1)\n",
    "smtpObj.sendmail(\"****\",\"****\",msg.as_string())"
   ]
  },
  {
   "cell_type": "code",
   "execution_count": null,
   "metadata": {},
   "outputs": [],
   "source": []
  }
 ],
 "metadata": {
  "kernelspec": {
   "display_name": "Python 3",
   "language": "python",
   "name": "python3"
  },
  "language_info": {
   "codemirror_mode": {
    "name": "ipython",
    "version": 3
   },
   "file_extension": ".py",
   "mimetype": "text/x-python",
   "name": "python",
   "nbconvert_exporter": "python",
   "pygments_lexer": "ipython3",
   "version": "3.7.4"
  }
 },
 "nbformat": 4,
 "nbformat_minor": 2
}
