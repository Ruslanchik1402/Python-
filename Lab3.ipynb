{
 "cells": [
  {
   "cell_type": "code",
   "execution_count": 62,
   "metadata": {},
   "outputs": [
    {
     "name": "stdout",
     "output_type": "stream",
     "text": [
      "Введите вакансию: программист\n",
      "Найдено вакансий:  15\n",
      "Максимальная заработная плата:  90000\n",
      "Минимальная заработная плата:  40000\n",
      "Среднее по максимумам заработных плат:  78333.33333333333\n",
      "Среднее по минимумам заработных плат:  52857.142857142855\n",
      "Средняя заработная плата:  64615.38461538462\n",
      "Стажер-программист 1С Авиант\n",
      "Junior/Начинающий программист ТЭК-Торг\n",
      "Программист 1C 8 ГУРМАН 50000 - 90000\n",
      "Программист-стажер (AI, Big Data) Meanotek\n",
      "PHP-программист Ильдеряков Евгений Алексеевич 50000\n",
      "Программист 1C 8 ГУРМАН 50000 - 90000\n",
      "Программист 1С Группа Компаний Строй-Снаб 70000 - 90000\n",
      "Front-end Developer Акселболт Паблишинг\n",
      "Программист 1С ПРОМИНТЕЛ, Группа Компаний 60000\n",
      "Unity developer Prime Games 60000\n",
      "Unity developer Prime Games 60000\n",
      "Программист АСМПРОМО 40000 - 80000\n",
      "Инженер-программист АСУ ТП Maxima\n",
      "PHP-программист Data Armor\n",
      "Программист-разработчик Альянс 50000\n"
     ]
    }
   ],
   "source": [
    "import requests\n",
    "import pandas as pd\n",
    "vacancies=[]\n",
    "\n",
    "\n",
    "vac=input('Введите вакансию: ')\n",
    "\n",
    "for i in range(200):\n",
    "    url = 'https://api.hh.ru/vacancies'\n",
    "    par = {'text': vac, 'area':'113','per_page':'10', 'page':i}\n",
    "    r = requests.get(url, params=par)\n",
    "    e=r.json()\n",
    "    vacancies.append(e)\n",
    "\n",
    "jobs_list=[]\n",
    "for j in vacancies:\n",
    "    y = j['items']\n",
    "    n=0\n",
    "    sum_zp=0\n",
    "    for i in y:\n",
    "        if i['address']!=None:\n",
    "            a=i['address']\n",
    "            if a['city']=='Казань':\n",
    "                jobs_list.append(i)\n",
    "\n",
    "                \n",
    "max_salary=-1\n",
    "sum_salary=-1\n",
    "num_of_vacancies=len(jobs_list)\n",
    "max_salaries=[]\n",
    "min_salaries=[]\n",
    "for a in jobs_list:\n",
    "    if a['salary']!=None:\n",
    "        if a['salary']['from']!=None:\n",
    "            min_salaries.append(a['salary']['from'])\n",
    "        if a['salary']['to']!=None:\n",
    "            max_salaries.append(a['salary']['to'])\n",
    "            \n",
    "            \n",
    "print('Найдено вакансий: ', num_of_vacancies)\n",
    "print('Максимальная заработная плата: ', max(max_salaries))\n",
    "print('Минимальная заработная плата: ', min(min_salaries))\n",
    "print('Среднее по максимумам заработных плат: ', sum(max_salaries)/len(max_salaries))\n",
    "print('Среднее по минимумам заработных плат: ', sum(min_salaries)/len(min_salaries))\n",
    "print('Средняя заработная плата: ', (sum(max_salaries)+sum(min_salaries))/(len(max_salaries)+len(min_salaries)))\n",
    "for a in jobs_list:\n",
    "      if a['salary']!=None:\n",
    "            if a['salary']['from']!=None and a['salary']['to']!=None:\n",
    "                print(a['name'],a['employer']['name'],a['salary']['from'],'-',a['salary']['to'])\n",
    "            elif(a['salary']['from']!=None):\n",
    "                print(a['name'],a['employer']['name'],a['salary']['from'])\n",
    "            elif(a['salary']['to']!=None):\n",
    "                print(a['name'],a['employer']['name'],a['salary']['to'])\n",
    "      else:\n",
    "          print(a['name'],a['employer']['name'])"
   ]
  }
 ],
 "metadata": {
  "kernelspec": {
   "display_name": "Python 3",
   "language": "python",
   "name": "python3"
  },
  "language_info": {
   "codemirror_mode": {
    "name": "ipython",
    "version": 3
   },
   "file_extension": ".py",
   "mimetype": "text/x-python",
   "name": "python",
   "nbconvert_exporter": "python",
   "pygments_lexer": "ipython3",
   "version": "3.7.4"
  }
 },
 "nbformat": 4,
 "nbformat_minor": 2
}
