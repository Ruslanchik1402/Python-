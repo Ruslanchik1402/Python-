{
 "cells": [
  {
   "cell_type": "markdown",
   "metadata": {},
   "source": [
    "1. Программа для распознавания русского и английского текста с изображений."
   ]
  },
  {
   "cell_type": "code",
   "execution_count": 2,
   "metadata": {},
   "outputs": [
    {
     "name": "stdout",
     "output_type": "stream",
     "text": [
      "Для выполнения заданий по лабораторной работе необходимо иметь:\n",
      "\n",
      "—  Теззегаеі — ОСВ.\n",
      "—  руфеззегас! ( рір іпзГа! ({еззегас! )\n",
      "—  ріШочу\n",
      "\n",
      "— — питру\n",
      "— — зеГепіит\n",
      "\n",
      "ЗЭ.ДЭ.ЧИ для всех вариантов:\n",
      "\n",
      "1. Разработать программу для распознавания текста с изображения,\n",
      "находящегося на веб—странице, с помощью зеіепішт и Теззегас!.\n",
      "\n",
      "2. Разработать программу (бота) для чтения САРТСНА (Сотріеіе\\у\n",
      "Апіота{ей РиБИс Тигіпа {езі {0 {е] Сотриіетгз апа Ниталз Арагб).\n",
      "\n",
      "3. Обучить Теззегасі для распознавания одной САРТСНА. Используя свою\n",
      "программу, с помощью уератіуег (РБапіот]$ или Сбготе) заполнить\n",
      "форму на сайте с простой защитой от ботов.\n",
      "This is some text, written in Arial, that will be read by\n",
      "Tesseract. Here are some symbols: !|@#$%&*()\n"
     ]
    }
   ],
   "source": [
    "from urllib.request import urlopen\n",
    "import pytesseract\n",
    "from PIL import Image\n",
    "\n",
    "\n",
    "def get_text_eng(url):\n",
    "    image = Image.open(urlopen(url))\n",
    "    pytesseract.pytesseract.tesseract_cmd = r'C:\\Program Files (x86)\\Tesseract-OCR\\tesseract.exe'\n",
    "    text =  pytesseract.image_to_string(image, lang='eng')\n",
    "    return text\n",
    "\n",
    "\n",
    "def get_text_rus(url):\n",
    "    image = Image.open(urlopen(url))\n",
    "    pytesseract.pytesseract.tesseract_cmd = r'C:\\Program Files (x86)\\Tesseract-OCR\\tesseract.exe'\n",
    "    text =  pytesseract.image_to_string(image, lang='rus')\n",
    "    return text\n",
    "\n",
    "\n",
    "print(get_text_rus('https://downloader.disk.yandex.ru/preview/cbc085e07cc333fc83edbebb1dffd80ed57193ad907e05d97d420bdc2bf332c0/5eaf4051/lbRVeAU52klisbSJ_Ordq9GEL2wKkB5HHIeavPwseoe0lUi3ipxWPg96WjCrmypb1Gbn96ao75oLup2_RC_Z8g==?uid=0&filename=rustext.PNG&disposition=inline&hash=&limit=0&content_type=image%2Fpng&tknv=v2&owner_uid=65681894&size=1920x964'))\n",
    "print(get_text_eng('https://downloader.disk.yandex.ru/preview/ffb3f1bce099175d8c9c89233ce7b0f8cd1f60ee8a9943be408180d89583be79/5eaf4051/fOLDePgV-cYHMzFGTulxDGWpuGyWcnvRcqNDf4O-5x30Spu7vNxMuBI92Fj6xgueBFp41ZajLwioY_916uSf-w==?uid=0&filename=textOriginal.png&disposition=inline&hash=&limit=0&content_type=image%2Fpng&tknv=v2&owner_uid=65681894&size=1920x964'))"
   ]
  },
  {
   "cell_type": "markdown",
   "metadata": {},
   "source": [
    "2. Программа для распознавания текста с изображения на веб-странице. "
   ]
  },
  {
   "cell_type": "code",
   "execution_count": 3,
   "metadata": {},
   "outputs": [
    {
     "name": "stdout",
     "output_type": "stream",
     "text": [
      "У меня тут днюха скоро.\n",
      "\n",
      "Может зайдёшь? р)\n",
      "Посидим, как раньше... [ [ илнииния.\n",
      "‘ Ачё не зайти—то. и\n",
      "‚ Время пока есть..\n",
      "\n",
      "( Напомни, когда у / тебя?\n",
      "\n",
      "Да всё так же, 5 октября,\n",
      "аккурат за 87 дней до\n",
      "конца года.. і ’\n"
     ]
    },
    {
     "name": "stderr",
     "output_type": "stream",
     "text": [
      "D:\\Anaconda3\\lib\\site-packages\\PIL\\Image.py:989: UserWarning: Palette images with Transparency expressed in bytes should be converted to RGBA images\n",
      "  \"Palette images with Transparency expressed in bytes should be \"\n"
     ]
    },
    {
     "name": "stdout",
     "output_type": "stream",
     "text": [
      "\n",
      "\n",
      "\n",
      "\n",
      "\n",
      "о ли\n",
      "\n",
      "\n",
      "['У меня тут днюха скоро.\\n\\nМожет зайдёшь? р)\\nПосидим, как раньше... [ [ илнииния.\\n‘ Ачё не зайти—то. и\\n‚ Время пока есть..\\n\\n( Напомни, когда у / тебя?\\n\\nДа всё так же, 5 октября,\\nаккурат за 87 дней до\\nконца года.. і ’', '', '', '', '', '', 'о ли', '', '']\n"
     ]
    }
   ],
   "source": [
    "from selenium.webdriver import Chrome\n",
    "\n",
    "webdriver = \"D:\\downloads\\chromedriver\"\n",
    "driver = Chrome(webdriver)\n",
    "\n",
    "url='https://www.sports.ru/tribuna/blogs/hockey_memy/1413824.html'\n",
    "driver.get(url)\n",
    "items = (driver.find_elements_by_tag_name(\"img\"))\n",
    "links_list=[]\n",
    "\n",
    "for i in items:\n",
    "    link=i.get_attribute('src')\n",
    "    if (link!=None and link!=''):\n",
    "        links_list.append(link)\n",
    "    \n",
    "driver.close()\n",
    "\n",
    "texts=[]\n",
    "\n",
    "\n",
    "for a in links_list:\n",
    "    res=get_text_rus(a)\n",
    "    print(res)\n",
    "    texts.append(res)\n",
    "    \n",
    "    \n",
    "print(texts)"
   ]
  },
  {
   "cell_type": "markdown",
   "metadata": {},
   "source": [
    "3. Программа для чтения CAPTCHA"
   ]
  },
  {
   "cell_type": "code",
   "execution_count": 30,
   "metadata": {},
   "outputs": [
    {
     "name": "stdout",
     "output_type": "stream",
     "text": [
      "centres Zorbing\n"
     ]
    }
   ],
   "source": [
    "webdriver = \"D:\\downloads\\chromedriver\"\n",
    "driver = Chrome(webdriver)\n",
    "url='https://rucaptcha.com/auth/register'\n",
    "driver.get(url)\n",
    "\n",
    "\n",
    "items=driver.find_elements_by_id(\"ru_captcha\")\n",
    "\n",
    "for i in items:\n",
    "    capt_link=i.find_element_by_tag_name('img')\n",
    "    link=capt_link.get_attribute('src')\n",
    "    print(get_text_eng(link))\n"
   ]
  }
 ],
 "metadata": {
  "kernelspec": {
   "display_name": "Python 3",
   "language": "python",
   "name": "python3"
  },
  "language_info": {
   "codemirror_mode": {
    "name": "ipython",
    "version": 3
   },
   "file_extension": ".py",
   "mimetype": "text/x-python",
   "name": "python",
   "nbconvert_exporter": "python",
   "pygments_lexer": "ipython3",
   "version": "3.7.4"
  }
 },
 "nbformat": 4,
 "nbformat_minor": 2
}
