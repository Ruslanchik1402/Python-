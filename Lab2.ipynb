{
 "cells": [
  {
   "cell_type": "markdown",
   "metadata": {},
   "source": [
    "1. Вариант с selenium для получения статуса доступа книги"
   ]
  },
  {
   "cell_type": "code",
   "execution_count": 14,
   "metadata": {},
   "outputs": [
    {
     "name": "stdout",
     "output_type": "stream",
     "text": [
      "Введите запрос для поиска книг:   анализ\n",
      "Алгебра и анализ: тезисы докладов школы-конференции, посвященной 100-летию со дня рождения Б...   Алгебра и анализ, научная школа-конференция, Доступно\n",
      "Материалы международной конференции \"Топология, анализ и приложения к математической физике...   \"Топология, анализ и приложения к математической физике\", международная конференция, Доступно\n",
      "Материалы международной конференции \"Топология, анализ и приложения к математической физике...   \"Топология, анализ и приложения к математической физике\", международная конференция, Доступно\n",
      "Финансовый анализ   Ефимова О.В., Доступно\n",
      "Readings in Fourier analysis on finite non-Abelian groups   Stanković R. S., Moraga C., Astola J., Доступно\n",
      "Вещественный и комплексный анализ: учеб. пособие для студентов мат. спец. учреждений...   \n",
      "Векторный и тензорный анализ: учебное пособие   Беляев Ю. Н., Доступно\n",
      "Санлы анализ нигезләре, Кис.2   \n",
      "Ионы металлов как метки для определения иммунореагентов: автореферат диссертации на соискание ученой степени кандидата химических наук: специальность 02.00.02 - аналитическая химия...   Дыхал Ю. И., \n",
      "Основы рентгеноспектрального флуоресцентного анализа   Лосев Н. Ф., Смагунова А. Н., Доступно\n",
      "Математик анализдан мәсьәләләр җыентыгы: югары уку йортлары өчен уку ярдәмлеге   Мөдәррисов И. Х., Мөхлисов Ф. Г., \n",
      "Математический и функциональный анализ: конспект лекций   Шерстнев А. Н., Доступно\n",
      "Математик анализ курсы: югары уку йортларында математик анализны татар телендә өйрәнүче студентлар...   Хәйруллин С.Х.у., Хәйруллин Р., \n",
      "Санлы анализ нигезләре: 1 кисәк   \n",
      "Алгебра и начала анализа: учебник для 10-11классов общеобразовательных учреждений   Алимов Ш.А., Колягин Ю.М., Сидоров Ю.В., Федорова Н. Е., Шабунин М. И., Доступно\n",
      "Алгебра и начала анализа: учебник для 10-11 кл. сред. шк.   Колмогоров А.Н., Абрамов А.Н., Дудницын Ю.П., Доступно\n",
      "Алгебра и начала анализа: учебник для 10-11кл. общеобразоват. учреждений   Алимов Ш.А., Колягин Ю.М., Сидоров Ю.В., Доступно\n",
      "Алгебра и начала анализа: учебник для 10-11 кл. сред. шк.   Колмогоров А.Н., Абрамов А.Н., Дудницын Ю.П., Доступно\n",
      "Методы билинейных форм в некоммутативной теории меры и интеграла   Шерстнев А. Н., Доступно\n",
      "Конспект лекций по математическому анализу: II семестр   Шерстнев А.Н., Доступно\n"
     ]
    }
   ],
   "source": [
    "from urllib.request import urlopen\n",
    "from selenium.webdriver import Chrome\n",
    "from selenium.webdriver.support.ui import WebDriverWait\n",
    "from bs4 import BeautifulSoup\n",
    "import time\n",
    "\n",
    "\n",
    "query_text = input('Введите запрос для поиска книг:   ')\n",
    "\n",
    "\n",
    "\n",
    "webdriver = \"D:\\downloads\\chromedriver\"\n",
    "driver = Chrome(webdriver)\n",
    "\n",
    "url='https://allfind.kpfu.ru/'\n",
    "driver.get(url)\n",
    "driver.find_element_by_name('lookfor').clear()\n",
    "driver.find_element_by_name('lookfor').send_keys(query_text)\n",
    "driver.find_element_by_name('lookfor').send_keys(u'\\ue007')\n",
    "search_url=driver.current_url\n",
    "results_form=driver.find_elements_by_class_name('record-title')\n",
    "access=driver.find_elements_by_class_name('status')\n",
    "res_names=[]\n",
    "for a in results_form:\n",
    "    res_names.append(a.text)\n",
    "access_res=[]\n",
    "for a in access:\n",
    "    access_res.append(a.text)\n",
    "\n",
    "driver.close()\n",
    "html = urlopen(search_url)\n",
    "\n",
    "bs_search_results = BeautifulSoup(html, \"html.parser\")\n",
    "search_results = bs_search_results.findAll('div', {'class' : 'result clearfix'})\n",
    "\n",
    "res_authors = [[x.get_text().strip() for x in sr.findAll(lambda tag : tag.name == 'a' and tag.has_attr('href') and 'Author' in tag.get('href'))] for sr in search_results]\n",
    "\n",
    "\n",
    "for i in range(len(res_names)):\n",
    "    print(res_names[i], end='   ')\n",
    "    for au in res_authors[i]:\n",
    "        print(au, end=', ')\n",
    "    print(access_res[i])"
   ]
  },
  {
   "cell_type": "markdown",
   "metadata": {},
   "source": [
    "2. Вариант без selenium"
   ]
  },
  {
   "cell_type": "code",
   "execution_count": 5,
   "metadata": {},
   "outputs": [
    {
     "name": "stdout",
     "output_type": "stream",
     "text": [
      "Введите запрос:   анализ\n",
      "Алгебра и анализ: тезисы докладов школы-конференции, посвященной 100-летию со дня рождения Б...   Алгебра и анализ, научная школа-конференция   \n",
      "\n",
      "Материалы международной конференции \"Топология, анализ и приложения к математической физике...   \"Топология, анализ и приложения к математической физике\", международная конференция   \n",
      "\n",
      "Материалы международной конференции \"Топология, анализ и приложения к математической физике...   \"Топология, анализ и приложения к математической физике\", международная конференция   \n",
      "\n",
      "Финансовый анализ   Ефимова О.В.   \n",
      "\n",
      "Readings in Fourier analysis on  finite non-Abelian groups   Stanković R. S.   Moraga C.   Astola J.   \n",
      "\n",
      "Вещественный и комплексный анализ: учеб. пособие для студентов мат. спец. учреждений...   \n",
      "\n",
      "Векторный и тензорный анализ: учебное пособие   Беляев Ю. Н.   \n",
      "\n",
      "Санлы анализ нигезләре, Кис.2   \n",
      "\n",
      "Ионы металлов как метки для определения иммунореагентов: автореферат диссертации на соискание ученой степени кандидата химических наук: специальность 02.00.02 - аналитическая химия...   Дыхал Ю. И.   \n",
      "\n",
      "Основы рентгеноспектрального флуоресцентного анализа   Лосев Н. Ф.   Смагунова А. Н.   \n",
      "\n",
      "Математик анализдан мәсьәләләр җыентыгы: югары уку йортлары өчен уку ярдәмлеге   Мөдәррисов И. Х.   Мөхлисов Ф. Г.   \n",
      "\n",
      "Математический и функциональный анализ: конспект лекций   Шерстнев А. Н.   \n",
      "\n",
      "Математик анализ курсы: югары уку йортларында математик анализны татар телендә өйрәнүче студентлар...   Хәйруллин С.Х.у.   Хәйруллин Р.   \n",
      "\n",
      "Санлы анализ нигезләре: 1 кисәк   \n",
      "\n",
      "Алгебра и начала анализа: учебник для 10-11классов общеобразовательных учреждений   Алимов Ш.А.   Колягин Ю.М.   Сидоров Ю.В.   Федорова Н. Е.   Шабунин М. И.   \n",
      "\n",
      "Алгебра и начала анализа: учебник для 10-11 кл. сред. шк.   Колмогоров А.Н.   Абрамов А.Н.   Дудницын Ю.П.   \n",
      "\n",
      "Алгебра и начала анализа: учебник для 10-11кл. общеобразоват. учреждений   Алимов Ш.А.   Колягин Ю.М.   Сидоров Ю.В.   \n",
      "\n",
      "Алгебра и начала анализа: учебник для 10-11 кл. сред. шк.   Колмогоров А.Н.   Абрамов А.Н.   Дудницын Ю.П.   \n",
      "\n",
      "Методы билинейных форм в некоммутативной теории меры и интеграла   Шерстнев А. Н.   \n",
      "\n",
      "Конспект лекций по математическому анализу: II семестр   Шерстнев А.Н.   \n",
      "\n"
     ]
    }
   ],
   "source": [
    "from urllib.request import urlopen\n",
    "from urllib.parse import quote\n",
    "from bs4 import BeautifulSoup\n",
    "import time\n",
    "\n",
    "search_url_template = \"https://allfind.kpfu.ru/Search/Results?lookfor={0}&type=AllFields\"\n",
    "query_text = input('Введите запрос:   ')\n",
    "search_url = search_url_template.format(quote(query_text))\n",
    "html = urlopen(search_url)\n",
    "bs_search_results = BeautifulSoup(html, \"html.parser\")\n",
    "search_results = bs_search_results.findAll('div', {'class' : 'result clearfix'})\n",
    "res_titles = [sr.find('a', {'class' : 'title'}).get_text().strip() for sr in search_results]\n",
    "res_authors = [[x.get_text().strip() for x in sr.findAll(lambda tag : tag.name == 'a' and tag.has_attr('href') and 'Author' in tag.get('href'))] for sr in search_results]\n",
    "for i in range(len(res_titles)):\n",
    "    print(res_titles[i], end='   ')\n",
    "    for au in res_authors[i]:\n",
    "        print(au, end='   ')\n",
    "    print('\\n')"
   ]
  },
  {
   "cell_type": "code",
   "execution_count": null,
   "metadata": {},
   "outputs": [],
   "source": []
  }
 ],
 "metadata": {
  "kernelspec": {
   "display_name": "Python 3",
   "language": "python",
   "name": "python3"
  },
  "language_info": {
   "codemirror_mode": {
    "name": "ipython",
    "version": 3
   },
   "file_extension": ".py",
   "mimetype": "text/x-python",
   "name": "python",
   "nbconvert_exporter": "python",
   "pygments_lexer": "ipython3",
   "version": "3.7.4"
  }
 },
 "nbformat": 4,
 "nbformat_minor": 2
}
