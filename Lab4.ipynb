{
 "cells": [
  {
   "cell_type": "markdown",
   "metadata": {},
   "source": [
    "Генерация псевдонаучного текста на основе цепи Маркова."
   ]
  },
  {
   "cell_type": "code",
   "execution_count": 9,
   "metadata": {},
   "outputs": [
    {
     "data": {
      "text/plain": [
       "'Целью работы с помощью невербальных средств общения и вокализацией, по-разному реагирует на инициацию общения соответствуют 15 баллов, низкому уровню. Так, примером высокого уровня сформированности навыков для диагностики заносились в возрасте от стола, кричать). Дифференсация знакомых и навык проявления инициативности в общении проявляет инициативу в общении и незнакомых людей с выраженными нарушениями в общении и т.п.). Просит помощи и дизартрию, 1 – детский церебральный паралич и педагогами испытывает трудности с выраженными нарушениями в развитии, проведение диагностики сформированности коммуникативных навыков молодых людей не подражает простым действиям, привлекает к себе зрительным контактом и невербальные), соблюдает очередность во взаимодействии, навык просьбы о помощи, навык просьбы'"
      ]
     },
     "execution_count": 9,
     "metadata": {},
     "output_type": "execute_result"
    }
   ],
   "source": [
    "import numpy as np\n",
    "\n",
    "\n",
    "def make_pairs(corpus):\n",
    "    for i in range(len(corpus)-1):\n",
    "        yield (corpus[i], corpus[i+1])\n",
    "        \n",
    "\n",
    "topic = open('D:\\downloads\\sctopic.txt', encoding='utf8').read()\n",
    "\n",
    "corpus = topic.split()\n",
    "\n",
    "        \n",
    "pairs = make_pairs(corpus)\n",
    "\n",
    "word_dict = {}\n",
    "\n",
    "for word_1, word_2 in pairs:\n",
    "    if word_1 in word_dict.keys():\n",
    "        word_dict[word_1].append(word_2)\n",
    "    else:\n",
    "        word_dict[word_1] = [word_2]\n",
    " \n",
    "\n",
    "first_word = np.random.choice(corpus)\n",
    "\n",
    "while first_word.islower():\n",
    "    first_word = np.random.choice(corpus)\n",
    "\n",
    "chain = [first_word]\n",
    "\n",
    "n_words = 100\n",
    "\n",
    "for i in range(n_words):\n",
    "    chain.append(np.random.choice(word_dict[chain[-1]]))\n",
    "\n",
    "' '.join(chain)\n"
   ]
  }
 ],
 "metadata": {
  "kernelspec": {
   "display_name": "Python 3",
   "language": "python",
   "name": "python3"
  },
  "language_info": {
   "codemirror_mode": {
    "name": "ipython",
    "version": 3
   },
   "file_extension": ".py",
   "mimetype": "text/x-python",
   "name": "python",
   "nbconvert_exporter": "python",
   "pygments_lexer": "ipython3",
   "version": "3.7.4"
  }
 },
 "nbformat": 4,
 "nbformat_minor": 2
}
